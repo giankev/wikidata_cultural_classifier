{
  "nbformat": 4,
  "nbformat_minor": 0,
  "metadata": {
    "colab": {
      "provenance": []
    },
    "kernelspec": {
      "name": "python3",
      "display_name": "Python 3"
    },
    "language_info": {
      "name": "python"
    }
  },
  "cells": [
    {
      "cell_type": "markdown",
      "source": [
        "https://colab.research.google.com/drive/1Ok2TyWayHXFJedppb39mFvua3q2cU244?usp=sharing"
      ],
      "metadata": {
        "id": "8BIktuFc4gLn"
      }
    },
    {
      "cell_type": "code",
      "execution_count": null,
      "metadata": {
        "id": "GobTcVPxbDEk"
      },
      "outputs": [],
      "source": [
        "# Cell 1: Imports\n",
        "import pandas as pd\n",
        "import numpy as np\n",
        "import torch, torch.nn as nn, torch.optim as optim\n",
        "from torch.utils.data import Dataset, DataLoader\n",
        "from sklearn.preprocessing import LabelEncoder, StandardScaler\n",
        "from sklearn.impute import SimpleImputer\n",
        "from sklearn.metrics import confusion_matrix, ConfusionMatrixDisplay, classification_report\n",
        "import matplotlib.pyplot as plt"
      ]
    },
    {
      "cell_type": "code",
      "source": [
        "from google.colab import drive\n",
        "drive.mount('/content/drive')\n",
        "\n",
        "train_df = pd.read_csv('/content/drive/MyDrive/content/features.csv')\n",
        "val_df   = pd.read_csv('/content/drive/MyDrive/content/features_v.csv')\n",
        "\n",
        "print(\"Train shape:\", train_df.shape)\n",
        "print(\"Val   shape:\", val_df.shape)"
      ],
      "metadata": {
        "colab": {
          "base_uri": "https://localhost:8080/"
        },
        "id": "dCjqcPDJbTI0",
        "outputId": "4f10d934-1fd7-424b-b299-3f1a777f3bd3"
      },
      "execution_count": null,
      "outputs": [
        {
          "output_type": "stream",
          "name": "stdout",
          "text": [
            "Drive already mounted at /content/drive; to attempt to forcibly remount, call drive.mount(\"/content/drive\", force_remount=True).\n",
            "Train shape: (6248, 21)\n",
            "Val   shape: (299, 21)\n"
          ]
        }
      ]
    },
    {
      "cell_type": "code",
      "source": [
        "# Cell 3: Select numeric graph features\n",
        "feature_cols = [\n",
        "    'num_nodes','num_edges','average_degree','density',\n",
        "    'average_clustering','assortativity','transitivity',\n",
        "    'avg_degree_centrality','avg_betweenness_centrality',\n",
        "    'avg_closeness_centrality','edge_weight_mean',\n",
        "    'edge_weight_std','label_overlap_with_country'\n",
        "]\n",
        "# drop any zero‐variance features\n",
        "stds = train_df[feature_cols].std(ddof=0)\n",
        "feature_cols = [f for f in feature_cols if stds[f] != 0]\n",
        "print(\"Using features:\", feature_cols)"
      ],
      "metadata": {
        "colab": {
          "base_uri": "https://localhost:8080/"
        },
        "id": "jPKnj7DXbUJx",
        "outputId": "fe07208a-315e-4621-8cd5-5c5c8b6f4654"
      },
      "execution_count": null,
      "outputs": [
        {
          "output_type": "stream",
          "name": "stdout",
          "text": [
            "Using features: ['num_nodes', 'num_edges', 'average_degree', 'density', 'average_clustering', 'assortativity', 'transitivity', 'avg_degree_centrality', 'avg_betweenness_centrality', 'avg_closeness_centrality', 'edge_weight_mean', 'edge_weight_std', 'label_overlap_with_country']\n"
          ]
        }
      ]
    },
    {
      "cell_type": "code",
      "source": [
        "# Cell 4: Encode labels\n",
        "le = LabelEncoder()\n",
        "train_df['label_idx'] = le.fit_transform(train_df['label'])\n",
        "val_df  ['label_idx'] = le.transform( val_df['label'])\n",
        "print(\"Class mapping:\", dict(zip(le.classes_, le.transform(le.classes_))))"
      ],
      "metadata": {
        "colab": {
          "base_uri": "https://localhost:8080/"
        },
        "id": "JPHv0HYDbXKS",
        "outputId": "cba3a38a-23f7-49b5-8971-73ed2edd7e7e"
      },
      "execution_count": null,
      "outputs": [
        {
          "output_type": "stream",
          "name": "stdout",
          "text": [
            "Class mapping: {'cultural agnostic': np.int64(0), 'cultural exclusive': np.int64(1), 'cultural representative': np.int64(2)}\n"
          ]
        }
      ]
    },
    {
      "cell_type": "code",
      "source": [
        "# Cell 5: Impute + Scale\n",
        "# 5a) Replace infinite with NaN\n",
        "train_df[feature_cols] = train_df[feature_cols].replace([np.inf, -np.inf], np.nan)\n",
        "val_df  [feature_cols] = val_df  [feature_cols].replace([np.inf, -np.inf], np.nan)\n",
        "\n",
        "# 5b) Impute missing with median\n",
        "imp = SimpleImputer(strategy='median')\n",
        "X_train = imp.fit_transform(train_df[feature_cols])\n",
        "X_val   = imp.transform(   val_df[feature_cols])\n",
        "\n",
        "# 5c) Standard scaling (zero mean, unit variance)\n",
        "scaler = StandardScaler()\n",
        "X_train = scaler.fit_transform(X_train)\n",
        "X_val   = scaler.transform(  X_val)\n",
        "\n",
        "# ensure correct dtype\n",
        "X_train = X_train.astype(np.float32)\n",
        "X_val   = X_val.astype(np.float32)\n",
        "\n",
        "y_train = train_df['label_idx'].values\n",
        "y_val   = val_df['label_idx'].values\n",
        "\n",
        "print(\"Features shape:\", X_train.shape, X_val.shape)"
      ],
      "metadata": {
        "colab": {
          "base_uri": "https://localhost:8080/"
        },
        "id": "oN55MQlCbYov",
        "outputId": "125ceb3c-3b30-40e5-fc55-a07f657b01c5"
      },
      "execution_count": null,
      "outputs": [
        {
          "output_type": "stream",
          "name": "stdout",
          "text": [
            "Features shape: (6248, 13) (299, 13)\n"
          ]
        }
      ]
    },
    {
      "cell_type": "code",
      "source": [
        "# Cell 6: PyTorch Dataset + DataLoader\n",
        "class GraphFeatureDataset(Dataset):\n",
        "    def __init__(self, X, y):\n",
        "        self.X = torch.from_numpy(X)\n",
        "        self.y = torch.from_numpy(y).long()\n",
        "    def __len__(self):\n",
        "        return len(self.X)\n",
        "    def __getitem__(self, idx):\n",
        "        return self.X[idx], self.y[idx]\n",
        "\n",
        "train_ds = GraphFeatureDataset(X_train, y_train)\n",
        "val_ds   = GraphFeatureDataset(X_val,   y_val)\n",
        "\n",
        "train_loader = DataLoader(train_ds, batch_size=32, shuffle=True)\n",
        "val_loader   = DataLoader(val_ds,   batch_size=32, shuffle=False)"
      ],
      "metadata": {
        "id": "V7kEph5bbaAf"
      },
      "execution_count": null,
      "outputs": []
    },
    {
      "cell_type": "code",
      "source": [
        "# Cell 7: Define a 3-layer NN with BatchNorm + Dropout\n",
        "class ThreeLayerNet(nn.Module):\n",
        "    def __init__(self, in_dim, num_classes):\n",
        "        super().__init__()\n",
        "        self.net = nn.Sequential(\n",
        "            nn.Linear(in_dim, 64),\n",
        "            nn.BatchNorm1d(64),\n",
        "            nn.ReLU(),\n",
        "            nn.Dropout(0.3),\n",
        "\n",
        "            nn.Linear(64, 32),\n",
        "            nn.BatchNorm1d(32),\n",
        "            nn.ReLU(),\n",
        "            nn.Dropout(0.2),\n",
        "\n",
        "            nn.Linear(32, num_classes)\n",
        "        )\n",
        "    def forward(self, x):\n",
        "        return self.net(x)\n",
        "\n",
        "device = torch.device('cuda' if torch.cuda.is_available() else 'cpu')\n",
        "model = ThreeLayerNet(len(feature_cols), len(le.classes_)).to(device)\n",
        "print(model)"
      ],
      "metadata": {
        "colab": {
          "base_uri": "https://localhost:8080/"
        },
        "id": "qsSxNgFdbbVW",
        "outputId": "15aee011-0fc9-4178-dcd7-0c9c610a8723"
      },
      "execution_count": null,
      "outputs": [
        {
          "output_type": "stream",
          "name": "stdout",
          "text": [
            "ThreeLayerNet(\n",
            "  (net): Sequential(\n",
            "    (0): Linear(in_features=13, out_features=64, bias=True)\n",
            "    (1): BatchNorm1d(64, eps=1e-05, momentum=0.1, affine=True, track_running_stats=True)\n",
            "    (2): ReLU()\n",
            "    (3): Dropout(p=0.3, inplace=False)\n",
            "    (4): Linear(in_features=64, out_features=32, bias=True)\n",
            "    (5): BatchNorm1d(32, eps=1e-05, momentum=0.1, affine=True, track_running_stats=True)\n",
            "    (6): ReLU()\n",
            "    (7): Dropout(p=0.2, inplace=False)\n",
            "    (8): Linear(in_features=32, out_features=3, bias=True)\n",
            "  )\n",
            ")\n"
          ]
        }
      ]
    },
    {
      "cell_type": "code",
      "source": [
        "# Cell 8: Loss, Optimizer, Scheduler & Early Stopping\n",
        "# class weights inverse to frequency\n",
        "counts = np.bincount(y_train)\n",
        "class_weights = torch.tensor(1.0/counts, dtype=torch.float32).to(device)\n",
        "\n",
        "criterion = nn.CrossEntropyLoss(weight=class_weights)\n",
        "optimizer = optim.AdamW(model.parameters(), lr=5e-5, weight_decay=1e-5)\n",
        "scheduler = optim.lr_scheduler.ReduceLROnPlateau(\n",
        "    optimizer, mode='max', factor=0.5, patience=5, verbose=True\n",
        ")\n",
        "\n",
        "best_val_acc = 0.0\n",
        "no_improve   = 0\n",
        "patience     = 10"
      ],
      "metadata": {
        "colab": {
          "base_uri": "https://localhost:8080/"
        },
        "id": "CdWUsYOFbcsA",
        "outputId": "114d300d-28a6-4106-c0e7-d3a2fbf0de53"
      },
      "execution_count": null,
      "outputs": [
        {
          "output_type": "stream",
          "name": "stderr",
          "text": [
            "/usr/local/lib/python3.11/dist-packages/torch/optim/lr_scheduler.py:62: UserWarning: The verbose parameter is deprecated. Please use get_last_lr() to access the learning rate.\n",
            "  warnings.warn(\n"
          ]
        }
      ]
    },
    {
      "cell_type": "code",
      "source": [
        "# Cell 9: Training Loop\n",
        "num_epochs = 50\n",
        "\n",
        "for epoch in range(1, num_epochs+1):\n",
        "    # Training\n",
        "    model.train()\n",
        "    train_loss = 0.0; train_corr = train_tot = 0\n",
        "    for Xb, yb in train_loader:\n",
        "        Xb, yb = Xb.to(device), yb.to(device)\n",
        "        optimizer.zero_grad()\n",
        "        logits = model(Xb)\n",
        "        loss = criterion(logits, yb)\n",
        "        loss.backward()\n",
        "        nn.utils.clip_grad_norm_(model.parameters(), 1.0)\n",
        "        optimizer.step()\n",
        "\n",
        "        train_loss += loss.item()*yb.size(0)\n",
        "        preds = logits.argmax(dim=1)\n",
        "        train_corr += (preds==yb).sum().item()\n",
        "        train_tot  += yb.size(0)\n",
        "\n",
        "    train_loss /= train_tot\n",
        "    train_acc   = train_corr / train_tot\n",
        "\n",
        "    # Validation\n",
        "    model.eval()\n",
        "    val_loss = 0.0; val_corr = val_tot = 0\n",
        "    with torch.no_grad():\n",
        "        for Xb, yb in val_loader:\n",
        "            Xb, yb = Xb.to(device), yb.to(device)\n",
        "            logits = model(Xb)\n",
        "            loss   = criterion(logits, yb)\n",
        "            val_loss += loss.item()*yb.size(0)\n",
        "            preds = logits.argmax(dim=1)\n",
        "            val_corr += (preds==yb).sum().item()\n",
        "            val_tot  += yb.size(0)\n",
        "\n",
        "    val_loss /= val_tot\n",
        "    val_acc   = val_corr / val_tot\n",
        "\n",
        "    scheduler.step(val_acc)\n",
        "    print(f\"Epoch {epoch:02d} | Train loss {train_loss:.6f} acc {train_acc:.4f} | \"\n",
        "          f\"Val loss {val_loss:.6f} acc {val_acc:.4f}\")\n",
        "\n",
        "    # Early stopping\n",
        "    if val_acc > best_val_acc + 1e-4:\n",
        "        best_val_acc = val_acc\n",
        "        no_improve   = 0\n",
        "        torch.save(model.state_dict(), 'best_model.pt')\n",
        "    else:\n",
        "        no_improve += 1\n",
        "        if no_improve >= patience:\n",
        "            print(\"Early stopping.\")\n",
        "            break\n",
        "\n",
        "print(\"Best Validation Accuracy:\", best_val_acc)"
      ],
      "metadata": {
        "colab": {
          "base_uri": "https://localhost:8080/"
        },
        "id": "3gknK8UUbd2R",
        "outputId": "e2ba6509-8c3c-4b42-d219-e0fd7b4444ce"
      },
      "execution_count": null,
      "outputs": [
        {
          "output_type": "stream",
          "name": "stdout",
          "text": [
            "Epoch 01 | Train loss 1.161200 acc 0.3311 | Val loss 1.116479 acc 0.3813\n",
            "Epoch 02 | Train loss 1.117839 acc 0.3708 | Val loss 1.067257 acc 0.4448\n",
            "Epoch 03 | Train loss 1.098162 acc 0.3942 | Val loss 1.040832 acc 0.4515\n",
            "Epoch 04 | Train loss 1.085766 acc 0.4123 | Val loss 1.033291 acc 0.5017\n",
            "Epoch 05 | Train loss 1.078579 acc 0.4209 | Val loss 1.021202 acc 0.5117\n",
            "Epoch 06 | Train loss 1.069000 acc 0.4331 | Val loss 1.009177 acc 0.5117\n",
            "Epoch 07 | Train loss 1.061342 acc 0.4520 | Val loss 1.000522 acc 0.5351\n",
            "Epoch 08 | Train loss 1.058190 acc 0.4611 | Val loss 0.996939 acc 0.5251\n",
            "Epoch 09 | Train loss 1.061297 acc 0.4528 | Val loss 0.993366 acc 0.5284\n",
            "Epoch 10 | Train loss 1.054436 acc 0.4560 | Val loss 0.987877 acc 0.5385\n",
            "Epoch 11 | Train loss 1.063152 acc 0.4574 | Val loss 0.974911 acc 0.5251\n",
            "Epoch 12 | Train loss 1.049526 acc 0.4664 | Val loss 0.983636 acc 0.5485\n",
            "Epoch 13 | Train loss 1.056931 acc 0.4625 | Val loss 0.981516 acc 0.5385\n",
            "Epoch 14 | Train loss 1.044730 acc 0.4677 | Val loss 0.969160 acc 0.5251\n",
            "Epoch 15 | Train loss 1.047912 acc 0.4677 | Val loss 0.976589 acc 0.5452\n",
            "Epoch 16 | Train loss 1.045936 acc 0.4725 | Val loss 0.969638 acc 0.5351\n",
            "Epoch 17 | Train loss 1.040693 acc 0.4776 | Val loss 0.971535 acc 0.5452\n",
            "Epoch 18 | Train loss 1.043850 acc 0.4730 | Val loss 0.970096 acc 0.5318\n",
            "Epoch 19 | Train loss 1.043626 acc 0.4778 | Val loss 0.971287 acc 0.5518\n",
            "Epoch 20 | Train loss 1.036087 acc 0.4848 | Val loss 0.969397 acc 0.5418\n",
            "Epoch 21 | Train loss 1.037828 acc 0.4779 | Val loss 0.967431 acc 0.5485\n",
            "Epoch 22 | Train loss 1.041616 acc 0.4810 | Val loss 0.970574 acc 0.5418\n",
            "Epoch 23 | Train loss 1.041777 acc 0.4816 | Val loss 0.966551 acc 0.5518\n",
            "Epoch 24 | Train loss 1.036919 acc 0.4768 | Val loss 0.964884 acc 0.5385\n",
            "Epoch 25 | Train loss 1.041693 acc 0.4706 | Val loss 0.963813 acc 0.5452\n",
            "Epoch 26 | Train loss 1.041113 acc 0.4778 | Val loss 0.972439 acc 0.5518\n",
            "Epoch 27 | Train loss 1.041105 acc 0.4766 | Val loss 0.968309 acc 0.5318\n",
            "Epoch 28 | Train loss 1.039195 acc 0.4750 | Val loss 0.964938 acc 0.5418\n",
            "Epoch 29 | Train loss 1.039094 acc 0.4832 | Val loss 0.971950 acc 0.5452\n",
            "Early stopping.\n",
            "Best Validation Accuracy: 0.5518394648829431\n"
          ]
        }
      ]
    },
    {
      "cell_type": "code",
      "source": [
        "# Cell 10: Confusion Matrix + Classification Report\n",
        "model.load_state_dict(torch.load('best_model.pt'))\n",
        "model.eval()\n",
        "\n",
        "all_preds, all_labels = [], []\n",
        "with torch.no_grad():\n",
        "    for Xb, yb in val_loader:\n",
        "        Xb = Xb.to(device)\n",
        "        logits = model(Xb)\n",
        "        preds = logits.argmax(dim=1).cpu().numpy()\n",
        "        all_preds.extend(preds)\n",
        "        all_labels.extend(yb.numpy())\n",
        "\n",
        "cm = confusion_matrix(all_labels, all_preds)\n",
        "disp = ConfusionMatrixDisplay(cm, display_labels=le.classes_)\n",
        "fig, ax = plt.subplots(figsize=(6,6))\n",
        "disp.plot(ax=ax, cmap='Blues', colorbar=False)\n",
        "plt.title('Confusion Matrix')\n",
        "plt.show()\n",
        "\n",
        "print('\\nClassification Report:\\n')\n",
        "print(classification_report(all_labels, all_preds, target_names=le.classes_))"
      ],
      "metadata": {
        "colab": {
          "base_uri": "https://localhost:8080/",
          "height": 790
        },
        "id": "3nNolD_-bfqn",
        "outputId": "68bba5d9-02fb-4280-c7d0-5cf23dfab78f"
      },
      "execution_count": null,
      "outputs": [
        {
          "output_type": "display_data",
          "data": {
            "text/plain": [
              "<Figure size 600x600 with 1 Axes>"
            ],
            "image/png": "[encoded data removed]"
          },
          "metadata": {}
        },
        {
          "output_type": "stream",
          "name": "stdout",
          "text": [
            "\n",
            "Classification Report:\n",
            "\n",
            "                         precision    recall  f1-score   support\n",
            "\n",
            "      cultural agnostic       0.53      0.56      0.54       116\n",
            "     cultural exclusive       0.58      0.62      0.60        76\n",
            "cultural representative       0.56      0.50      0.52       107\n",
            "\n",
            "               accuracy                           0.55       299\n",
            "              macro avg       0.56      0.56      0.56       299\n",
            "           weighted avg       0.55      0.55      0.55       299\n",
            "\n"
          ]
        }
      ]
    }
  ]
}