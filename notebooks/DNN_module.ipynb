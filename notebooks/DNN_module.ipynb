{
  "nbformat": 4,
  "nbformat_minor": 0,
  "metadata": {
    "colab": {
      "provenance": [],
      "authorship_tag": "ABX9TyMLL3QSjPNTq+03XzefgEZY",
      "include_colab_link": true
    },
    "kernelspec": {
      "name": "python3",
      "display_name": "Python 3"
    },
    "language_info": {
      "name": "python"
    }
  },
  "cells": [
    {
      "cell_type": "markdown",
      "metadata": {
        "id": "view-in-github",
        "colab_type": "text"
      },
      "source": [
        "<a href=\"https://colab.research.google.com/github/giankev/wikidata_cultural_classifier/blob/main/notebooks/DNN_module.ipynb\" target=\"_parent\"><img src=\"https://colab.research.google.com/assets/colab-badge.svg\" alt=\"Open In Colab\"/></a>"
      ]
    },
    {
      "cell_type": "code",
      "source": [
        "URL_FILE_1 = \"https://raw.githubusercontent.com/giankev/wikidata_cultural_classifier/refs/heads/main/dataset_parser.py\"\n",
        "URL_FILE_2 = \"https://raw.githubusercontent.com/giankev/wikidata_cultural_classifier/refs/heads/main/wiki_extractor.py\"\n",
        "URL_FILE_3 = \"https://raw.githubusercontent.com/giankev/wikidata_cultural_classifier/refs/heads/main/custom_dataset.py\"\n",
        "\n",
        "print(\"Scaricando il file 1...\")\n",
        "!wget {URL_FILE_1}\n",
        "\n",
        "print(\"\\nScaricando il file 2...\")\n",
        "!wget {URL_FILE_2}\n",
        "\n",
        "print(\"\\nScaricando il file 3...\")\n",
        "!wget {URL_FILE_3}\n",
        "\n",
        "print(\"\\nDownload completati. Contenuto della directory corrente:\")"
      ],
      "metadata": {
        "colab": {
          "base_uri": "https://localhost:8080/"
        },
        "id": "vAq05WUPg1UH",
        "outputId": "5d54d0da-a5c6-4a1f-84aa-8e408b41f0c4"
      },
      "execution_count": 1,
      "outputs": [
        {
          "output_type": "stream",
          "name": "stdout",
          "text": [
            "Scaricando il file 1...\n",
            "--2025-04-26 11:08:17--  https://raw.githubusercontent.com/giankev/wikidata_cultural_classifier/refs/heads/main/dataset_parser.py\n",
            "Resolving raw.githubusercontent.com (raw.githubusercontent.com)... 185.199.108.133, 185.199.110.133, 185.199.109.133, ...\n",
            "Connecting to raw.githubusercontent.com (raw.githubusercontent.com)|185.199.108.133|:443... connected.\n",
            "HTTP request sent, awaiting response... 200 OK\n",
            "Length: 5912 (5.8K) [text/plain]\n",
            "Saving to: ‘dataset_parser.py’\n",
            "\n",
            "dataset_parser.py   100%[===================>]   5.77K  --.-KB/s    in 0s      \n",
            "\n",
            "2025-04-26 11:08:17 (53.5 MB/s) - ‘dataset_parser.py’ saved [5912/5912]\n",
            "\n",
            "\n",
            "Scaricando il file 2...\n",
            "--2025-04-26 11:08:17--  https://raw.githubusercontent.com/giankev/wikidata_cultural_classifier/refs/heads/main/wiki_extractor.py\n",
            "Resolving raw.githubusercontent.com (raw.githubusercontent.com)... 185.199.110.133, 185.199.109.133, 185.199.108.133, ...\n",
            "Connecting to raw.githubusercontent.com (raw.githubusercontent.com)|185.199.110.133|:443... connected.\n",
            "HTTP request sent, awaiting response... 200 OK\n",
            "Length: 5489 (5.4K) [text/plain]\n",
            "Saving to: ‘wiki_extractor.py’\n",
            "\n",
            "wiki_extractor.py   100%[===================>]   5.36K  --.-KB/s    in 0s      \n",
            "\n",
            "2025-04-26 11:08:17 (54.9 MB/s) - ‘wiki_extractor.py’ saved [5489/5489]\n",
            "\n",
            "\n",
            "Scaricando il file 3...\n",
            "--2025-04-26 11:08:17--  https://raw.githubusercontent.com/giankev/wikidata_cultural_classifier/refs/heads/main/custom_dataset.py\n",
            "Resolving raw.githubusercontent.com (raw.githubusercontent.com)... 185.199.109.133, 185.199.111.133, 185.199.108.133, ...\n",
            "Connecting to raw.githubusercontent.com (raw.githubusercontent.com)|185.199.109.133|:443... connected.\n",
            "HTTP request sent, awaiting response... 200 OK\n",
            "Length: 6334 (6.2K) [text/plain]\n",
            "Saving to: ‘custom_dataset.py’\n",
            "\n",
            "custom_dataset.py   100%[===================>]   6.19K  --.-KB/s    in 0s      \n",
            "\n",
            "2025-04-26 11:08:17 (60.2 MB/s) - ‘custom_dataset.py’ saved [6334/6334]\n",
            "\n",
            "\n",
            "Download completati. Contenuto della directory corrente:\n"
          ]
        }
      ]
    },
    {
      "cell_type": "code",
      "source": [
        "!pip install wikidata"
      ],
      "metadata": {
        "colab": {
          "base_uri": "https://localhost:8080/"
        },
        "id": "m8956Sx3jC9C",
        "outputId": "fc931559-499b-4724-d1c8-1903a5804002"
      },
      "execution_count": 2,
      "outputs": [
        {
          "output_type": "stream",
          "name": "stdout",
          "text": [
            "Requirement already satisfied: wikidata in /usr/local/lib/python3.11/dist-packages (0.8.1)\n"
          ]
        }
      ]
    },
    {
      "cell_type": "code",
      "source": [
        "from custom_dataset import CustomData\n",
        "import pandas as pd\n",
        "import numpy as np"
      ],
      "metadata": {
        "id": "ttPr2LqlohyY"
      },
      "execution_count": 3,
      "outputs": []
    },
    {
      "cell_type": "code",
      "source": [
        "try:\n",
        "    df_train = pd.read_csv('train.csv')\n",
        "    df_test = pd.read_csv('valid.csv') #per ora uso valid per il testing, in attesa del test.csv..\n",
        "    print(\"File train.csv e validation.csv caricati.\")\n",
        "except Exception as e:\n",
        "    print(f\"Errore: {e}\")\n",
        "    print(\"Impossibile procedere senza i file CSV.\")\n",
        "    exit()\n",
        "\n",
        "dataset_custom = CustomData(df_train)\n",
        "df_train = dataset_custom.add_feature()"
      ],
      "metadata": {
        "colab": {
          "base_uri": "https://localhost:8080/"
        },
        "id": "rwHzR1AMiAy6",
        "outputId": "5423a916-737a-4b7d-8df0-377f771e44db"
      },
      "execution_count": 4,
      "outputs": [
        {
          "output_type": "stream",
          "name": "stdout",
          "text": [
            "File train.csv e validation.csv caricati.\n",
            "Adding feature...\n",
            "WARN: Failed to create extractor for index 5245 (ID/URL: http://www.wikidata.org/entity/Q7551241): Errore nel recupero dell'entità Q7551241: HTTP Error 404: Not Found\n",
            "\n",
            "Fetch Summary:\n",
            "  Attempted: 6251\n",
            "  Successful Fetches (Extractor created): 6250\n",
            "  Failed Fetches (Extractor is None): 1\n"
          ]
        }
      ]
    },
    {
      "cell_type": "code",
      "source": [
        "dataset_custom2 = CustomData(df_test)\n",
        "df_test = dataset_custom2.add_feature()"
      ],
      "metadata": {
        "colab": {
          "base_uri": "https://localhost:8080/"
        },
        "id": "RZDQzqo7vPKd",
        "outputId": "4b23fa11-f877-4830-a7fb-0c6b8dd350b2"
      },
      "execution_count": 5,
      "outputs": [
        {
          "output_type": "stream",
          "name": "stdout",
          "text": [
            "Adding feature...\n",
            "\n",
            "Fetch Summary:\n",
            "  Attempted: 300\n",
            "  Successful Fetches (Extractor created): 300\n",
            "  Failed Fetches (Extractor is None): 0\n"
          ]
        }
      ]
    },
    {
      "cell_type": "code",
      "source": [
        "print(\"\\n=== Processing Training Data ===\")\n",
        "df_train_processed = dataset_custom.preprocess_data(df_train)\n",
        "\n",
        "print(\"\\n=== Processing Validation Data ===\")\n",
        "df_validation_processed = dataset_custom2.preprocess_data(df_test)"
      ],
      "metadata": {
        "id": "W0jZ4wfDiBXg",
        "colab": {
          "base_uri": "https://localhost:8080/"
        },
        "outputId": "cd2d94d6-f297-42f3-a411-5789fa8858c3"
      },
      "execution_count": 6,
      "outputs": [
        {
          "output_type": "stream",
          "name": "stdout",
          "text": [
            "\n",
            "=== Processing Training Data ===\n",
            "\n",
            "--- Preprocessing DataFrame (Initial rows: 6251) ---\n",
            "Handling Missing Values: Eliminato 2 righe con valori NaN.\n",
            "  Righe rimanenti dopo dropna: 6249\n",
            "--- Preprocessing Completo (Final rows: 6249, Final columns: 23) ---\n",
            "\n",
            "=== Processing Validation Data ===\n",
            "\n",
            "--- Preprocessing DataFrame (Initial rows: 300) ---\n",
            "Handling Missing Values: Nessuna riga con NaN trovata.\n",
            "--- Preprocessing Completo (Final rows: 300, Final columns: 23) ---\n"
          ]
        }
      ]
    },
    {
      "cell_type": "code",
      "source": [
        "X_train = df_train_processed.drop(columns=[\"label\"])\n",
        "y_train = df_train_processed[\"label\"]\n",
        "\n",
        "X_val = df_validation_processed.drop(columns=['label'])\n",
        "y_val = df_validation_processed['label']\n",
        "\n",
        "print(\"Shape prima dello scaling:\")\n",
        "print(f\"  X_train: {X_train.shape}\")\n",
        "print(f\"  X_val:   {X_val.shape}\")"
      ],
      "metadata": {
        "id": "W9U9JTtciGU8",
        "colab": {
          "base_uri": "https://localhost:8080/"
        },
        "outputId": "86432dbe-dd88-47ee-b775-d716b7f60fde"
      },
      "execution_count": 7,
      "outputs": [
        {
          "output_type": "stream",
          "name": "stdout",
          "text": [
            "Shape prima dello scaling:\n",
            "  X_train: (6249, 22)\n",
            "  X_val:   (300, 22)\n"
          ]
        }
      ]
    },
    {
      "cell_type": "code",
      "source": [
        "print(\"\\n--- Ispezione Valori Unici in y ---\")\n",
        "print(\"Valori unici in y_train:\", y_train.unique())\n",
        "print(\"Conteggio valori in y_train:\\n\", y_train.value_counts())\n",
        "\n",
        "print(\"\\nValori unici in y_val:\", y_val.unique())\n",
        "print(\"Conteggio valori in y_val:\\n\", y_val.value_counts())\n",
        "print(\"-\" * 30)"
      ],
      "metadata": {
        "id": "PyMCGm5viIld",
        "colab": {
          "base_uri": "https://localhost:8080/"
        },
        "outputId": "719918a9-1ecc-4d71-eeb8-76eb3ec9e27c"
      },
      "execution_count": 8,
      "outputs": [
        {
          "output_type": "stream",
          "name": "stdout",
          "text": [
            "\n",
            "--- Ispezione Valori Unici in y ---\n",
            "Valori unici in y_train: ['cultural exclusive' 'cultural representative' 'cultural agnostic']\n",
            "Conteggio valori in y_train:\n",
            " label\n",
            "cultural exclusive         2690\n",
            "cultural agnostic          1871\n",
            "cultural representative    1688\n",
            "Name: count, dtype: int64\n",
            "\n",
            "Valori unici in y_val: ['cultural representative' 'cultural exclusive' 'cultural agnostic']\n",
            "Conteggio valori in y_val:\n",
            " label\n",
            "cultural agnostic          117\n",
            "cultural representative    107\n",
            "cultural exclusive          76\n",
            "Name: count, dtype: int64\n",
            "------------------------------\n"
          ]
        }
      ]
    },
    {
      "cell_type": "code",
      "source": [
        "label_mapping = {\n",
        "    'cultural agnostic': 0,\n",
        "    'cultural representative': 1,\n",
        "    'cultural exclusive': 2\n",
        "}\n",
        "\n",
        "# Applica a y_train e y_val\n",
        "y_train = y_train.map(label_mapping)\n",
        "y_val= y_val.map(label_mapping)"
      ],
      "metadata": {
        "id": "WAG1TYWriK2A"
      },
      "execution_count": 9,
      "outputs": []
    },
    {
      "cell_type": "code",
      "source": [
        "print(\"\\n--- Ispezione Valori Unici in y ---\")\n",
        "print(\"Valori unici in y_train:\", y_train.unique())\n",
        "print(\"Conteggio valori in y_train:\\n\", y_train.value_counts())\n",
        "\n",
        "print(\"\\nValori unici in y_val:\", y_val.unique())\n",
        "print(\"Conteggio valori in y_val:\\n\", y_val.value_counts())\n",
        "print(\"-\" * 30)"
      ],
      "metadata": {
        "id": "GpCXzVi-iQSv",
        "colab": {
          "base_uri": "https://localhost:8080/"
        },
        "outputId": "6a2bb707-0a9b-4d90-d721-6c7d6c262eb1"
      },
      "execution_count": 10,
      "outputs": [
        {
          "output_type": "stream",
          "name": "stdout",
          "text": [
            "\n",
            "--- Ispezione Valori Unici in y ---\n",
            "Valori unici in y_train: [2 1 0]\n",
            "Conteggio valori in y_train:\n",
            " label\n",
            "2    2690\n",
            "0    1871\n",
            "1    1688\n",
            "Name: count, dtype: int64\n",
            "\n",
            "Valori unici in y_val: [1 2 0]\n",
            "Conteggio valori in y_val:\n",
            " label\n",
            "0    117\n",
            "1    107\n",
            "2     76\n",
            "Name: count, dtype: int64\n",
            "------------------------------\n"
          ]
        }
      ]
    },
    {
      "cell_type": "code",
      "source": [
        "import pandas as pd\n",
        "import numpy as np\n",
        "import torch\n",
        "import torch.nn as nn\n",
        "import torch.optim as optim\n",
        "from torch.utils.data import Dataset, DataLoader\n",
        "# Assumiamo che le metriche e le librerie di plotting siano importate\n",
        "from sklearn.metrics import (accuracy_score, precision_score, recall_score,\n",
        "                             f1_score, confusion_matrix, ConfusionMatrixDisplay)\n",
        "import matplotlib.pyplot as plt\n",
        "import seaborn as sns\n",
        "import time\n",
        "\n",
        "# --- Fine Esempio Dati ---\n",
        "\n",
        "print(\"--- Preparazione Dati per PyTorch ---\")\n",
        "\n",
        "# Verifica Esistenza Variabili (importante!)\n",
        "required_vars = ['X_train_scaled', 'y_train', 'X_val_scaled', 'y_val']\n",
        "for var_name in required_vars:\n",
        "    if var_name not in locals() and var_name not in globals():\n",
        "         print(f\"ERRORE: La variabile '{var_name}' non è definita!\")\n",
        "         exit()\n",
        "    if not isinstance(locals().get(var_name, globals().get(var_name)), (pd.DataFrame, pd.Series)):\n",
        "         print(f\"ERRORE: La variabile '{var_name}' non è un DataFrame/Serie Pandas!\")\n",
        "         exit()\n",
        "\n",
        "\n",
        "# Determina il numero di classi da y_train\n",
        "try:\n",
        "    n_classes = y_train.nunique()\n",
        "    print(f\"Numero di classi rilevate in y_train: {n_classes}\")\n",
        "    if n_classes <= 1: raise ValueError(\"Trovata solo una o zero classi nel target.\")\n",
        "except Exception as e:\n",
        "    print(f\"Errore nel determinare n_classes da y_train: {e}\"); exit()\n",
        "\n",
        "# Converti DataFrame/Series Pandas in array NumPy e poi in Tensori PyTorch\n",
        "try:\n",
        "    X_train_np = X_train.values.astype(np.float32)\n",
        "    y_train_np = y_train.values.astype(np.int64) # int64 -> torch.long\n",
        "    X_val_np = X_val.values.astype(np.float32)\n",
        "    y_val_np = y_val.values.astype(np.int64) # int64 -> torch.long\n",
        "except Exception as e:\n",
        "     print(f\"Errore durante la conversione in NumPy: {e}\"); exit()\n",
        "\n",
        "\n",
        "X_train_tensor = torch.tensor(X_train_np, dtype=torch.float32)\n",
        "y_train_tensor = torch.tensor(y_train_np, dtype=torch.long)\n",
        "X_val_tensor = torch.tensor(X_val_np, dtype=torch.float32)\n",
        "y_val_tensor = torch.tensor(y_val_np, dtype=torch.long)\n",
        "\n",
        "print(f\"Tensor shapes: X_train {X_train_tensor.shape}, y_train {y_train_tensor.shape}, X_val {X_val_tensor.shape}, y_val {y_val_tensor.shape}\")\n",
        "print(f\"Tensor dtypes: X_train {X_train_tensor.dtype}, y_train {y_train_tensor.dtype}, X_val {X_val_tensor.dtype}, y_val {y_val_tensor.dtype}\")\n",
        "\n",
        "# --- 1. Creare PyTorch Dataset e DataLoader (come prima) ---\n",
        "class TabularDataset(Dataset):\n",
        "    def __init__(self, features, labels):\n",
        "        self.features = features\n",
        "        self.labels = labels\n",
        "    def __len__(self): return len(self.features)\n",
        "    def __getitem__(self, idx): return self.features[idx], self.labels[idx]\n",
        "\n",
        "train_dataset = TabularDataset(X_train_tensor, y_train_tensor)\n",
        "val_dataset = TabularDataset(X_val_tensor, y_val_tensor)\n",
        "\n",
        "batch_size = 64\n",
        "train_loader = DataLoader(train_dataset, batch_size=batch_size, shuffle=True)\n",
        "val_loader = DataLoader(val_dataset, batch_size=batch_size, shuffle=False)\n",
        "\n",
        "print(f\"Dati pronti. Batch size: {batch_size}. Train batches: {len(train_loader)}, Val batches: {len(val_loader)}\")\n",
        "\n",
        "# --- 2. Definire il Modello della Rete Neurale (Versione più Profonda) ---\n",
        "\n",
        "class DeeperClassifier(nn.Module):\n",
        "    def __init__(self, num_features, num_classes,\n",
        "                 h1=256, h2=128, h3=64, h4=32, # Unità per layer (esempio)\n",
        "                 drop1=0.4, drop2=0.3, drop3=0.2): # Tassi di Dropout\n",
        "        super().__init__()\n",
        "        self.layer_stack = nn.Sequential(\n",
        "            # Layer 1\n",
        "            nn.Linear(num_features, h1),\n",
        "            nn.ReLU(),\n",
        "            nn.BatchNorm1d(h1), # Aggiunta Batch Normalization (spesso utile in reti più profonde)\n",
        "            nn.Dropout(drop1),\n",
        "\n",
        "            # Layer 2\n",
        "            nn.Linear(h1, h2),\n",
        "            nn.ReLU(),\n",
        "            nn.BatchNorm1d(h2),\n",
        "            nn.Dropout(drop2),\n",
        "\n",
        "            # Layer 3 (Aggiunto)\n",
        "            nn.Linear(h2, h3),\n",
        "            nn.ReLU(),\n",
        "            nn.BatchNorm1d(h3),\n",
        "            nn.Dropout(drop3),\n",
        "\n",
        "            # Layer 4 (Aggiunto - opzionale, puoi fermarti a 3)\n",
        "            # nn.Linear(h3, h4),\n",
        "            # nn.ReLU(),\n",
        "            # nn.BatchNorm1d(h4),\n",
        "            # nn.Dropout(drop3 * 0.5), # Riduci ulteriormente dropout\n",
        "\n",
        "            # Layer di Output\n",
        "            # L'input a questo layer deve corrispondere all'output dell'ultimo layer nascosto attivo\n",
        "            nn.Linear(h3, num_classes) # Se ti fermi a 3 layer nascosti (h3)\n",
        "        )\n",
        "\n",
        "    def forward(self, x):\n",
        "        logits = self.layer_stack(x)\n",
        "        return logits\n",
        "\n",
        "# Crea un'istanza del nuovo modello\n",
        "input_features = X_train_tensor.shape[1]\n",
        "output_classes = n_classes\n",
        "# Usa la nuova classe del modello\n",
        "model = DeeperClassifier(num_features=input_features, num_classes=output_classes) # Passa i parametri desiderati\n",
        "print(\"\\n--- Struttura del Modello PyTorch (Più Profondo) ---\")\n",
        "print(model)\n",
        "\n",
        "# --- 3. Definire Loss e Ottimizzatore (come prima) ---\n",
        "# --- 3. Definire Funzione di Costo (Loss) e Ottimizzatore (con Modifiche) ---\n",
        "criterion = nn.CrossEntropyLoss()\n",
        "\n",
        "# Prova un learning rate leggermente più basso e aggiungi weight_decay\n",
        "optimizer = optim.Adam(model.parameters(), lr=0.0005, weight_decay=1e-5) # lr ridotto, aggiunto weight_decay\n",
        "# optimizer = optim.AdamW(model.parameters(), lr=0.0005, weight_decay=0.01) # Alternativa con AdamW\n",
        "\n",
        "# --- 4. Ciclo di Addestramento (con Modifiche) ---\n",
        "print(\"\\n--- Inizio Addestramento (Rete Più Profonda) ---\")\n",
        "# Aumenta le epoche, ma affidati anche a Early Stopping (se lo implementi)\n",
        "num_epochs = 50 # Aumentato da 25 (DA TUNARE!)\n",
        "device = torch.device(\"cuda\" if torch.cuda.is_available() else \"cpu\")\n",
        "model.to(device)\n",
        "print(f\"Addestramento su dispositivo: {device}\")\n",
        "\n",
        "# (Le liste per loss/accuracy rimangono uguali)\n",
        "train_losses, val_losses, train_accuracies, val_accuracies = [], [], [], []\n",
        "start_train_time = time.time()\n",
        "\n",
        "# --- Implementazione Early Stopping Migliore (Opzionale ma Raccomandato) ---\n",
        "patience = 15  # Quante epoche aspettare senza miglioramenti della val_loss\n",
        "best_val_loss = float('inf')\n",
        "epochs_no_improve = 0\n",
        "best_model_state = None # Per salvare i pesi del modello migliore\n",
        "\n",
        "print(f\"Early Stopping attivato con patience={patience}\")\n",
        "# ---------------------------------------------------------------------\n",
        "\n",
        "\n",
        "for epoch in range(num_epochs):\n",
        "    # --- Fase di Training (Codice invariato) ---\n",
        "    model.train()\n",
        "    running_loss, correct_train, total_train = 0.0, 0, 0\n",
        "    for inputs, labels in train_loader:\n",
        "        inputs, labels = inputs.to(device), labels.to(device)\n",
        "        optimizer.zero_grad()\n",
        "        outputs = model(inputs)\n",
        "        loss = criterion(outputs, labels)\n",
        "        loss.backward()\n",
        "        optimizer.step()\n",
        "        running_loss += loss.item()\n",
        "        _, predicted = torch.max(outputs.data, 1)\n",
        "        total_train += labels.size(0)\n",
        "        correct_train += (predicted == labels).sum().item()\n",
        "    epoch_train_loss = running_loss / len(train_loader)\n",
        "    epoch_train_acc = 100 * correct_train / total_train\n",
        "    train_losses.append(epoch_train_loss)\n",
        "    train_accuracies.append(epoch_train_acc)\n",
        "\n",
        "    # --- Fase di Validazione (Codice invariato per calcolo loss/acc) ---\n",
        "    model.eval()\n",
        "    running_val_loss, correct_val, total_val = 0.0, 0, 0\n",
        "    with torch.no_grad():\n",
        "        for inputs, labels in val_loader:\n",
        "            inputs, labels = inputs.to(device), labels.to(device)\n",
        "            outputs = model(inputs)\n",
        "            loss = criterion(outputs, labels)\n",
        "            running_val_loss += loss.item()\n",
        "            _, predicted = torch.max(outputs.data, 1)\n",
        "            total_val += labels.size(0)\n",
        "            correct_val += (predicted == labels).sum().item()\n",
        "    epoch_val_loss = running_val_loss / len(val_loader)\n",
        "    epoch_val_acc = 100 * correct_val / total_val\n",
        "    val_losses.append(epoch_val_loss)\n",
        "    val_accuracies.append(epoch_val_acc)\n",
        "\n",
        "    print(f'Epoca [{epoch+1}/{num_epochs}], '\n",
        "          f'Train Loss: {epoch_train_loss:.4f}, Train Acc: {epoch_train_acc:.2f}%, '\n",
        "          f'Val Loss: {epoch_val_loss:.4f}, Val Acc: {epoch_val_acc:.2f}%')\n",
        "\n",
        "\n",
        "    # --- Logica Early Stopping ---\n",
        "    if epoch_val_loss < best_val_loss:\n",
        "        best_val_loss = epoch_val_loss\n",
        "        epochs_no_improve = 0\n",
        "        # Salva lo stato del modello corrente come il migliore finora\n",
        "        best_model_state = model.state_dict()\n",
        "        print(f\"  Nuova miglior val_loss: {best_val_loss:.4f}. Salvataggio modello...\")\n",
        "    else:\n",
        "        epochs_no_improve += 1\n",
        "        print(f\"  Val_loss non migliorata per {epochs_no_improve} epoche.\")\n",
        "\n",
        "    if epochs_no_improve >= patience:\n",
        "        print(f\"\\nEarly stopping attivato all'epoca {epoch+1} dopo {patience} epoche senza miglioramenti.\")\n",
        "        break # Interrompi il ciclo di addestramento\n",
        "    # ---------------------------\n",
        "\n",
        "# --- Fine Ciclo Addestramento ---\n",
        "\n",
        "end_train_time = time.time()\n",
        "print(f\"\\nAddestramento interrotto/completato in {(end_train_time - start_train_time):.2f} secondi.\")\n",
        "\n",
        "# --- Carica i pesi del modello migliore trovato da Early Stopping ---\n",
        "if best_model_state is not None:\n",
        "    print(\"Caricamento dei pesi del modello con la migliore validation loss...\")\n",
        "    model.load_state_dict(best_model_state)\n",
        "else:\n",
        "     print(\"Attenzione: Early stopping non attivato o nessun modello salvato. Si usa l'ultimo modello.\")\n",
        "# --- 5. Valutazione Finale e Metriche (come prima) ---\n",
        "print(\"--- Valutazione Finale su Validation Set ---\")\n",
        "\n",
        "# Raccogli predizioni e label vere\n",
        "all_val_preds = []\n",
        "all_val_labels = []\n",
        "model.eval()\n",
        "with torch.no_grad():\n",
        "    for inputs, labels in val_loader:\n",
        "        inputs = inputs.to(device)\n",
        "        # labels non serve spostarle qui, tanto le convertiamo dopo\n",
        "        outputs = model(inputs)\n",
        "        _, predicted = torch.max(outputs.data, 1)\n",
        "        all_val_preds.extend(predicted.cpu().numpy())\n",
        "        all_val_labels.extend(labels.numpy()) # Prende le labels originali dal loader\n",
        "\n",
        "y_pred_val_nn = np.array(all_val_preds)\n",
        "y_val_true = np.array(all_val_labels) # Label vere numeriche (0, 1, 2...)\n",
        "\n",
        "# Calcola metriche\n",
        "accuracy_nn = accuracy_score(y_val_true, y_pred_val_nn)\n",
        "average_strategy = 'macro'\n",
        "precision_nn = precision_score(y_val_true, y_pred_val_nn, average=average_strategy, zero_division=0)\n",
        "recall_nn = recall_score(y_val_true, y_pred_val_nn, average=average_strategy, zero_division=0)\n",
        "f1_nn = f1_score(y_val_true, y_pred_val_nn, average=average_strategy, zero_division=0)\n",
        "\n",
        "print(\"\\nMetriche PyTorch DNN sul Validation Set:\")\n",
        "print(f\"  Accuracy:        {accuracy_nn:.4f}\")\n",
        "print(f\"  Precision ({average_strategy}): {precision_nn:.4f}\")\n",
        "print(f\"  Recall ({average_strategy}):    {recall_nn:.4f}\")\n",
        "print(f\"  F1-Score ({average_strategy}): {f1_nn:.4f}\")\n",
        "print(\"\\nConfusion Matrix PyTorch DNN:\")\n",
        "class_names = ['Cultural Agnostic', 'Cultural Representative', 'Cultural Exclusive']\n",
        "cm_nn = confusion_matrix(y_val_true, y_pred_val_nn)\n",
        "plt.figure(figsize=(8, 6))\n",
        "plot_labels = class_names if class_names is not None else 'auto'\n",
        "sns.heatmap(cm_nn, annot=True, fmt='d', cmap='Purples',\n",
        "            xticklabels=plot_labels, yticklabels=plot_labels)\n",
        "plt.title('Confusion Matrix PyTorch DNN - Validation Set')\n",
        "plt.ylabel('True Label'); plt.xlabel('Predicted Label')\n",
        "if class_names: plt.xticks(rotation=45, ha='right'); plt.yticks(rotation=0)\n",
        "plt.tight_layout(); plt.show()\n",
        "\n",
        "print(\"-\" * 30)\n",
        "print(\"Valutazione e plotting completati.\")"
      ],
      "metadata": {
        "id": "gXCj9wBSiXyn",
        "colab": {
          "base_uri": "https://localhost:8080/",
          "height": 1000
        },
        "outputId": "29dc91ee-636a-4d5c-823c-7b866fc5d884"
      },
      "execution_count": 11,
      "outputs": [
        {
          "output_type": "stream",
          "name": "stdout",
          "text": [
            "--- Preparazione Dati per PyTorch ---\n",
            "ERRORE: La variabile 'X_train_scaled' non è definita!\n",
            "ERRORE: La variabile 'X_train_scaled' non è un DataFrame/Serie Pandas!\n",
            "ERRORE: La variabile 'X_val_scaled' non è definita!\n",
            "ERRORE: La variabile 'X_val_scaled' non è un DataFrame/Serie Pandas!\n",
            "Numero di classi rilevate in y_train: 3\n",
            "Tensor shapes: X_train torch.Size([6249, 22]), y_train torch.Size([6249]), X_val torch.Size([300, 22]), y_val torch.Size([300])\n",
            "Tensor dtypes: X_train torch.float32, y_train torch.int64, X_val torch.float32, y_val torch.int64\n",
            "Dati pronti. Batch size: 64. Train batches: 98, Val batches: 5\n",
            "\n",
            "--- Struttura del Modello PyTorch (Più Profondo) ---\n",
            "DeeperClassifier(\n",
            "  (layer_stack): Sequential(\n",
            "    (0): Linear(in_features=22, out_features=256, bias=True)\n",
            "    (1): ReLU()\n",
            "    (2): BatchNorm1d(256, eps=1e-05, momentum=0.1, affine=True, track_running_stats=True)\n",
            "    (3): Dropout(p=0.4, inplace=False)\n",
            "    (4): Linear(in_features=256, out_features=128, bias=True)\n",
            "    (5): ReLU()\n",
            "    (6): BatchNorm1d(128, eps=1e-05, momentum=0.1, affine=True, track_running_stats=True)\n",
            "    (7): Dropout(p=0.3, inplace=False)\n",
            "    (8): Linear(in_features=128, out_features=64, bias=True)\n",
            "    (9): ReLU()\n",
            "    (10): BatchNorm1d(64, eps=1e-05, momentum=0.1, affine=True, track_running_stats=True)\n",
            "    (11): Dropout(p=0.2, inplace=False)\n",
            "    (12): Linear(in_features=64, out_features=3, bias=True)\n",
            "  )\n",
            ")\n",
            "\n",
            "--- Inizio Addestramento (Rete Più Profonda) ---\n",
            "Addestramento su dispositivo: cpu\n",
            "Early Stopping attivato con patience=15\n",
            "Epoca [1/50], Train Loss: 1.0054, Train Acc: 52.90%, Val Loss: 0.9315, Val Acc: 58.00%\n",
            "  Nuova miglior val_loss: 0.9315. Salvataggio modello...\n",
            "Epoca [2/50], Train Loss: 0.8996, Train Acc: 59.29%, Val Loss: 0.8342, Val Acc: 61.33%\n",
            "  Nuova miglior val_loss: 0.8342. Salvataggio modello...\n",
            "Epoca [3/50], Train Loss: 0.8649, Train Acc: 62.20%, Val Loss: 0.7332, Val Acc: 69.00%\n",
            "  Nuova miglior val_loss: 0.7332. Salvataggio modello...\n",
            "Epoca [4/50], Train Loss: 0.8442, Train Acc: 62.62%, Val Loss: 0.7611, Val Acc: 65.67%\n",
            "  Val_loss non migliorata per 1 epoche.\n",
            "Epoca [5/50], Train Loss: 0.8105, Train Acc: 64.20%, Val Loss: 0.7504, Val Acc: 67.33%\n",
            "  Val_loss non migliorata per 2 epoche.\n",
            "Epoca [6/50], Train Loss: 0.8023, Train Acc: 64.67%, Val Loss: 0.7525, Val Acc: 68.00%\n",
            "  Val_loss non migliorata per 3 epoche.\n",
            "Epoca [7/50], Train Loss: 0.7952, Train Acc: 65.39%, Val Loss: 0.8359, Val Acc: 62.33%\n",
            "  Val_loss non migliorata per 4 epoche.\n",
            "Epoca [8/50], Train Loss: 0.7895, Train Acc: 65.26%, Val Loss: 0.7095, Val Acc: 69.67%\n",
            "  Nuova miglior val_loss: 0.7095. Salvataggio modello...\n",
            "Epoca [9/50], Train Loss: 0.7904, Train Acc: 65.18%, Val Loss: 0.7119, Val Acc: 70.67%\n",
            "  Val_loss non migliorata per 1 epoche.\n",
            "Epoca [10/50], Train Loss: 0.7727, Train Acc: 66.19%, Val Loss: 0.6998, Val Acc: 70.00%\n",
            "  Nuova miglior val_loss: 0.6998. Salvataggio modello...\n",
            "Epoca [11/50], Train Loss: 0.7809, Train Acc: 66.31%, Val Loss: 0.7357, Val Acc: 66.67%\n",
            "  Val_loss non migliorata per 1 epoche.\n",
            "Epoca [12/50], Train Loss: 0.7690, Train Acc: 66.81%, Val Loss: 0.7777, Val Acc: 67.33%\n",
            "  Val_loss non migliorata per 2 epoche.\n",
            "Epoca [13/50], Train Loss: 0.7636, Train Acc: 67.08%, Val Loss: 0.7225, Val Acc: 69.00%\n",
            "  Val_loss non migliorata per 3 epoche.\n",
            "Epoca [14/50], Train Loss: 0.7598, Train Acc: 66.70%, Val Loss: 0.6966, Val Acc: 71.33%\n",
            "  Nuova miglior val_loss: 0.6966. Salvataggio modello...\n",
            "Epoca [15/50], Train Loss: 0.7605, Train Acc: 66.54%, Val Loss: 0.7168, Val Acc: 69.33%\n",
            "  Val_loss non migliorata per 1 epoche.\n",
            "Epoca [16/50], Train Loss: 0.7563, Train Acc: 66.75%, Val Loss: 0.7516, Val Acc: 65.67%\n",
            "  Val_loss non migliorata per 2 epoche.\n",
            "Epoca [17/50], Train Loss: 0.7591, Train Acc: 66.87%, Val Loss: 0.7184, Val Acc: 71.00%\n",
            "  Val_loss non migliorata per 3 epoche.\n",
            "Epoca [18/50], Train Loss: 0.7547, Train Acc: 66.91%, Val Loss: 0.6964, Val Acc: 70.00%\n",
            "  Nuova miglior val_loss: 0.6964. Salvataggio modello...\n",
            "Epoca [19/50], Train Loss: 0.7512, Train Acc: 67.82%, Val Loss: 0.7058, Val Acc: 67.67%\n",
            "  Val_loss non migliorata per 1 epoche.\n",
            "Epoca [20/50], Train Loss: 0.7553, Train Acc: 66.92%, Val Loss: 0.6926, Val Acc: 69.33%\n",
            "  Nuova miglior val_loss: 0.6926. Salvataggio modello...\n",
            "Epoca [21/50], Train Loss: 0.7579, Train Acc: 67.26%, Val Loss: 0.7316, Val Acc: 66.67%\n",
            "  Val_loss non migliorata per 1 epoche.\n",
            "Epoca [22/50], Train Loss: 0.7477, Train Acc: 67.45%, Val Loss: 0.6999, Val Acc: 69.00%\n",
            "  Val_loss non migliorata per 2 epoche.\n",
            "Epoca [23/50], Train Loss: 0.7486, Train Acc: 67.55%, Val Loss: 0.7218, Val Acc: 69.00%\n",
            "  Val_loss non migliorata per 3 epoche.\n",
            "Epoca [24/50], Train Loss: 0.7502, Train Acc: 67.58%, Val Loss: 0.6978, Val Acc: 67.33%\n",
            "  Val_loss non migliorata per 4 epoche.\n",
            "Epoca [25/50], Train Loss: 0.7465, Train Acc: 66.92%, Val Loss: 0.7189, Val Acc: 68.33%\n",
            "  Val_loss non migliorata per 5 epoche.\n",
            "Epoca [26/50], Train Loss: 0.7505, Train Acc: 66.87%, Val Loss: 0.7085, Val Acc: 71.33%\n",
            "  Val_loss non migliorata per 6 epoche.\n",
            "Epoca [27/50], Train Loss: 0.7398, Train Acc: 67.72%, Val Loss: 0.7042, Val Acc: 70.33%\n",
            "  Val_loss non migliorata per 7 epoche.\n",
            "Epoca [28/50], Train Loss: 0.7430, Train Acc: 67.75%, Val Loss: 0.6954, Val Acc: 69.67%\n",
            "  Val_loss non migliorata per 8 epoche.\n",
            "Epoca [29/50], Train Loss: 0.7435, Train Acc: 67.53%, Val Loss: 0.7223, Val Acc: 67.33%\n",
            "  Val_loss non migliorata per 9 epoche.\n",
            "Epoca [30/50], Train Loss: 0.7409, Train Acc: 68.51%, Val Loss: 0.7171, Val Acc: 66.00%\n",
            "  Val_loss non migliorata per 10 epoche.\n",
            "Epoca [31/50], Train Loss: 0.7398, Train Acc: 67.75%, Val Loss: 0.7221, Val Acc: 67.33%\n",
            "  Val_loss non migliorata per 11 epoche.\n",
            "Epoca [32/50], Train Loss: 0.7466, Train Acc: 67.19%, Val Loss: 0.7017, Val Acc: 70.00%\n",
            "  Val_loss non migliorata per 12 epoche.\n",
            "Epoca [33/50], Train Loss: 0.7471, Train Acc: 67.77%, Val Loss: 0.7231, Val Acc: 68.67%\n",
            "  Val_loss non migliorata per 13 epoche.\n",
            "Epoca [34/50], Train Loss: 0.7443, Train Acc: 67.77%, Val Loss: 0.7225, Val Acc: 68.33%\n",
            "  Val_loss non migliorata per 14 epoche.\n",
            "Epoca [35/50], Train Loss: 0.7446, Train Acc: 67.59%, Val Loss: 0.6948, Val Acc: 70.33%\n",
            "  Val_loss non migliorata per 15 epoche.\n",
            "\n",
            "Early stopping attivato all'epoca 35 dopo 15 epoche senza miglioramenti.\n",
            "\n",
            "Addestramento interrotto/completato in 15.66 secondi.\n",
            "Caricamento dei pesi del modello con la migliore validation loss...\n",
            "--- Valutazione Finale su Validation Set ---\n",
            "\n",
            "Metriche PyTorch DNN sul Validation Set:\n",
            "  Accuracy:        0.7033\n",
            "  Precision (macro): 0.6960\n",
            "  Recall (macro):    0.7020\n",
            "  F1-Score (macro): 0.6966\n",
            "\n",
            "Confusion Matrix PyTorch DNN:\n"
          ]
        },
        {
          "output_type": "display_data",
          "data": {
            "text/plain": [
              "<Figure size 800x600 with 2 Axes>"
            ],
            "image/png": "[encoded data removed]"
          },
          "metadata": {}
        },
        {
          "output_type": "stream",
          "name": "stdout",
          "text": [
            "------------------------------\n",
            "Valutazione e plotting completati.\n"
          ]
        }
      ]
    }
  ]
}